{
  "nbformat": 4,
  "nbformat_minor": 0,
  "metadata": {
    "colab": {
      "provenance": []
    },
    "kernelspec": {
      "name": "python3",
      "display_name": "Python 3"
    },
    "language_info": {
      "name": "python"
    }
  },
  "cells": [
    {
      "cell_type": "markdown",
      "source": [
        "# 10718 Assignment 1: Getting to know the class project\n",
        "\n",
        "## Overview\n",
        "\n",
        "The purpose of this exercise is to provide a quick introduction to the data and modeling problem we'll be using as an illustrative example throughout Machine Learning in Practice (10-718). Note that this colab notebook **only uses a small sample of the data**, but we'll be working with the full dataset as you get into your group projects for the rest of the semester.\n",
        "\n",
        "**Completing this assignment should only take you 2-3 hours.**\n",
        "\n",
        "## Problem Background\n",
        "\n",
        "This notebook makes use of a sample of the data provided by [DonorsChoose](https://www.donorschoose.org/) to the [2014 KDD Cup](https://www.kaggle.com/c/kdd-cup-2014-predicting-excitement-at-donors-choose/data). Public schools in the United States face large disparities in funding, often resulting in teachers and staff members filling these gaps by purchasing classroom supplies out of their own pockets. DonorsChoose is an online crowdfunding platform that tries to help alleviate this financial burden on teachers by allowing them to seek funding for projects and resources from the community (projects can include classroom basics like books and markers, larger items like lab equipment or musical instruments, specific experiences like field trips or guest speakers).\n",
        "\n",
        "Projects on DonorsChoose expire after 4 months, and if the target funding level isn't reached, the project receives no funding. Since its launch in 2000, the platform has helped fund over 2 million projects at schools across the US, but about 1/3 of the projects that are posted nevertheless fail to meet their goal and go unfunded.\n",
        "\n",
        "### The Modeling Problem\n",
        "\n",
        "For the purposes of this exercise, let's assume that DonorsChoose has hired a digital content expert who will review projects and help teachers improve their postings and increase their chances of reaching their funding threshold. Because this individualized review is a labor-intensive process, the digital content expert has ** time to review and support only 10% of the projects posted to the platform on a given day**.\n",
        "\n",
        "You are a data scientist working with DonorsChoose, and your task is to help this content expert focus their limited resources on projects that most need the help. As such, you want to build a model to **identify projects that are least likely to be fully funded before they expire**  and pass them off to the digital content expert for review.\n"
      ],
      "metadata": {
        "id": "Zw1i3ELeKDLD"
      }
    },
    {
      "cell_type": "markdown",
      "source": [
        "# Getting Set Up\n",
        "\n",
        "Running the code below will create a local postgres 11 database for you and import the sampled donors choose data. Don't worry about the details of that and you shouldn't need to touch any of the code here aside from running it. Below, we'll talk about how to access the database from within the notebook to run queries."
      ],
      "metadata": {
        "id": "BjRBddip6lPI"
      }
    },
    {
      "cell_type": "code",
      "execution_count": null,
      "metadata": {
        "id": "iY8dwqamIIQc",
        "outputId": "6e04d4c2-12f4-4c34-f0f0-72e5b5dec361",
        "colab": {
          "base_uri": "https://localhost:8080/"
        }
      },
      "outputs": [
        {
          "output_type": "stream",
          "name": "stdout",
          "text": [
            "Warning: apt-key is deprecated. Manage keyring files in trusted.gpg.d instead (see apt-key(8)).\n",
            "OK\n",
            "deb http://apt.postgresql.org/pub/repos/apt/ jammy-pgdg main\n",
            "W: http://apt.postgresql.org/pub/repos/apt/dists/jammy-pgdg/InRelease: Key is stored in legacy trusted.gpg keyring (/etc/apt/trusted.gpg), see the DEPRECATION section in apt-key(8) for details.\n",
            "debconf: unable to initialize frontend: Dialog\n",
            "debconf: (No usable dialog-like program is installed, so the dialog based frontend cannot be used. at /usr/share/perl5/Debconf/FrontEnd/Dialog.pm line 78, <> line 12.)\n",
            "debconf: falling back to frontend: Readline\n",
            "debconf: unable to initialize frontend: Readline\n",
            "debconf: (This frontend requires a controlling tty.)\n",
            "debconf: falling back to frontend: Teletype\n",
            "dpkg-preconfigure: unable to re-open stdin: \n",
            "Selecting previously unselected package libjson-perl.\n",
            "(Reading database ... 120893 files and directories currently installed.)\n",
            "Preparing to unpack .../00-libjson-perl_4.04000-1_all.deb ...\n",
            "Unpacking libjson-perl (4.04000-1) ...\n",
            "Selecting previously unselected package netbase.\n",
            "Preparing to unpack .../01-netbase_6.3_all.deb ...\n",
            "Unpacking netbase (6.3) ...\n",
            "Selecting previously unselected package postgresql-client-common.\n",
            "Preparing to unpack .../02-postgresql-client-common_253.pgdg22.04+1_all.deb ...\n",
            "Unpacking postgresql-client-common (253.pgdg22.04+1) ...\n",
            "Selecting previously unselected package ssl-cert.\n",
            "Preparing to unpack .../03-ssl-cert_1.1.2_all.deb ...\n",
            "Unpacking ssl-cert (1.1.2) ...\n",
            "Selecting previously unselected package postgresql-common.\n",
            "Preparing to unpack .../04-postgresql-common_253.pgdg22.04+1_all.deb ...\n",
            "Adding 'diversion of /usr/bin/pg_config to /usr/bin/pg_config.libpq-dev by postgresql-common'\n",
            "Unpacking postgresql-common (253.pgdg22.04+1) ...\n",
            "Selecting previously unselected package logrotate.\n",
            "Preparing to unpack .../05-logrotate_3.19.0-1ubuntu1.1_amd64.deb ...\n",
            "Unpacking logrotate (3.19.0-1ubuntu1.1) ...\n",
            "Selecting previously unselected package libcommon-sense-perl:amd64.\n",
            "Preparing to unpack .../06-libcommon-sense-perl_3.75-2build1_amd64.deb ...\n",
            "Unpacking libcommon-sense-perl:amd64 (3.75-2build1) ...\n",
            "Selecting previously unselected package libtypes-serialiser-perl.\n",
            "Preparing to unpack .../07-libtypes-serialiser-perl_1.01-1_all.deb ...\n",
            "Unpacking libtypes-serialiser-perl (1.01-1) ...\n",
            "Selecting previously unselected package libjson-xs-perl.\n",
            "Preparing to unpack .../08-libjson-xs-perl_4.030-1build3_amd64.deb ...\n",
            "Unpacking libjson-xs-perl (4.030-1build3) ...\n",
            "Selecting previously unselected package postgresql-client-11.\n",
            "Preparing to unpack .../09-postgresql-client-11_11.21-1.pgdg22.04+1_amd64.deb ...\n",
            "Unpacking postgresql-client-11 (11.21-1.pgdg22.04+1) ...\n",
            "Selecting previously unselected package postgresql-11.\n",
            "Preparing to unpack .../10-postgresql-11_11.21-1.pgdg22.04+1_amd64.deb ...\n",
            "Unpacking postgresql-11 (11.21-1.pgdg22.04+1) ...\n",
            "Selecting previously unselected package sysstat.\n",
            "Preparing to unpack .../11-sysstat_12.5.2-2ubuntu0.2_amd64.deb ...\n",
            "Unpacking sysstat (12.5.2-2ubuntu0.2) ...\n",
            "Setting up logrotate (3.19.0-1ubuntu1.1) ...\n",
            "Created symlink /etc/systemd/system/timers.target.wants/logrotate.timer → /lib/systemd/system/logrotate.timer.\n",
            "Setting up libcommon-sense-perl:amd64 (3.75-2build1) ...\n",
            "Setting up ssl-cert (1.1.2) ...\n",
            "debconf: unable to initialize frontend: Dialog\n",
            "debconf: (No usable dialog-like program is installed, so the dialog based frontend cannot be used. at /usr/share/perl5/Debconf/FrontEnd/Dialog.pm line 78.)\n",
            "debconf: falling back to frontend: Readline\n",
            "Setting up libtypes-serialiser-perl (1.01-1) ...\n",
            "Setting up libjson-perl (4.04000-1) ...\n",
            "Setting up netbase (6.3) ...\n",
            "Setting up sysstat (12.5.2-2ubuntu0.2) ...\n",
            "debconf: unable to initialize frontend: Dialog\n",
            "debconf: (No usable dialog-like program is installed, so the dialog based frontend cannot be used. at /usr/share/perl5/Debconf/FrontEnd/Dialog.pm line 78.)\n",
            "debconf: falling back to frontend: Readline\n",
            "\n",
            "Creating config file /etc/default/sysstat with new version\n",
            "update-alternatives: using /usr/bin/sar.sysstat to provide /usr/bin/sar (sar) in auto mode\n",
            "Created symlink /etc/systemd/system/sysstat.service.wants/sysstat-collect.timer → /lib/systemd/system/sysstat-collect.timer.\n",
            "Created symlink /etc/systemd/system/sysstat.service.wants/sysstat-summary.timer → /lib/systemd/system/sysstat-summary.timer.\n",
            "Created symlink /etc/systemd/system/multi-user.target.wants/sysstat.service → /lib/systemd/system/sysstat.service.\n",
            "Setting up postgresql-client-common (253.pgdg22.04+1) ...\n",
            "Setting up libjson-xs-perl (4.030-1build3) ...\n",
            "Setting up postgresql-client-11 (11.21-1.pgdg22.04+1) ...\n",
            "update-alternatives: using /usr/share/postgresql/11/man/man1/psql.1.gz to provide /usr/share/man/man1/psql.1.gz (psql.1.gz) in auto mode\n",
            "Setting up postgresql-common (253.pgdg22.04+1) ...\n",
            "debconf: unable to initialize frontend: Dialog\n",
            "debconf: (No usable dialog-like program is installed, so the dialog based frontend cannot be used. at /usr/share/perl5/Debconf/FrontEnd/Dialog.pm line 78.)\n",
            "debconf: falling back to frontend: Readline\n",
            "Adding user postgres to group ssl-cert\n",
            "\n",
            "Creating config file /etc/postgresql-common/createcluster.conf with new version\n",
            "Building PostgreSQL dictionaries from installed myspell/hunspell packages...\n",
            "Removing obsolete dictionary files:\n",
            "'/etc/apt/trusted.gpg.d/apt.postgresql.org.gpg' -> '/usr/share/postgresql-common/pgdg/apt.postgresql.org.gpg'\n",
            "invoke-rc.d: could not determine current runlevel\n",
            "invoke-rc.d: policy-rc.d denied execution of start.\n",
            "Created symlink /etc/systemd/system/multi-user.target.wants/postgresql.service → /lib/systemd/system/postgresql.service.\n",
            "Setting up postgresql-11 (11.21-1.pgdg22.04+1) ...\n",
            "debconf: unable to initialize frontend: Dialog\n",
            "debconf: (No usable dialog-like program is installed, so the dialog based frontend cannot be used. at /usr/share/perl5/Debconf/FrontEnd/Dialog.pm line 78.)\n",
            "debconf: falling back to frontend: Readline\n",
            "Creating new PostgreSQL cluster 11/main ...\n",
            "/usr/lib/postgresql/11/bin/initdb -D /var/lib/postgresql/11/main --auth-local peer --auth-host md5\n",
            "The files belonging to this database system will be owned by user \"postgres\".\n",
            "This user must also own the server process.\n",
            "\n",
            "The database cluster will be initialized with locale \"en_US.UTF-8\".\n",
            "The default database encoding has accordingly been set to \"UTF8\".\n",
            "The default text search configuration will be set to \"english\".\n",
            "\n",
            "Data page checksums are disabled.\n",
            "\n",
            "fixing permissions on existing directory /var/lib/postgresql/11/main ... ok\n",
            "creating subdirectories ... ok\n",
            "selecting default max_connections ... 100\n",
            "selecting default shared_buffers ... 128MB\n",
            "selecting default timezone ... Etc/UTC\n",
            "selecting dynamic shared memory implementation ... posix\n",
            "creating configuration files ... ok\n",
            "running bootstrap script ... ok\n",
            "performing post-bootstrap initialization ... ok\n",
            "syncing data to disk ... ok\n",
            "\n",
            "Success. You can now start the database server using:\n",
            "\n",
            "    pg_ctlcluster 11 main start\n",
            "\n",
            "invoke-rc.d: could not determine current runlevel\n",
            "invoke-rc.d: policy-rc.d denied execution of start.\n",
            "Processing triggers for man-db (2.10.2-1) ...\n",
            " * Starting PostgreSQL 11 database server\n",
            "   ...done.\n",
            "ALTER ROLE\n",
            "NOTICE:  database \"donors_choose\" does not exist, skipping\n",
            "DROP DATABASE\n",
            "CREATE DATABASE\n",
            "env: DEMO_DATABASE_NAME=donors_choose\n",
            "env: DEMO_DATABASE_HOST=localhost\n",
            "env: DEMO_DATABASE_PORT=5432\n",
            "env: DEMO_DATABASE_USER=postgres\n",
            "env: DEMO_DATABASE_PASS=postgres\n"
          ]
        }
      ],
      "source": [
        "# Install and start postgresql-11 server\n",
        "!sudo apt-get -y -qq update\n",
        "!wget --quiet -O - https://www.postgresql.org/media/keys/ACCC4CF8.asc | sudo apt-key add -\n",
        "!echo \"deb http://apt.postgresql.org/pub/repos/apt/ `lsb_release -cs`-pgdg main\" |sudo tee  /etc/apt/sources.list.d/pgdg.list\n",
        "!sudo apt-get -y -qq update\n",
        "!sudo apt-get -y -qq install postgresql-11 postgresql-client-11\n",
        "!sudo service postgresql start\n",
        "\n",
        "# Setup a password `postgres` for username `postgres`\n",
        "!sudo -u postgres psql -U postgres -c \"ALTER USER postgres PASSWORD 'postgres';\"\n",
        "\n",
        "# Setup a database with name `donors_choose` to be used\n",
        "!sudo -u postgres psql -U postgres -c 'DROP DATABASE IF EXISTS donors_choose;'\n",
        "\n",
        "!sudo -u postgres psql -U postgres -c 'CREATE DATABASE donors_choose;'\n",
        "\n",
        "# Environment variables for connecting to the database\n",
        "%env DEMO_DATABASE_NAME=donors_choose\n",
        "%env DEMO_DATABASE_HOST=localhost\n",
        "%env DEMO_DATABASE_PORT=5432\n",
        "%env DEMO_DATABASE_USER=postgres\n",
        "%env DEMO_DATABASE_PASS=postgres"
      ]
    },
    {
      "cell_type": "code",
      "source": [
        "# Download sampled DonorsChoose data and load it into our postgres server\n",
        "!curl -s -OL https://dsapp-public-data-migrated.s3.us-west-2.amazonaws.com/donors_sampled_20210920_v3.dmp\n",
        "!PGPASSWORD=$DEMO_DATABASE_PASS pg_restore -h $DEMO_DATABASE_HOST -p $DEMO_DATABASE_PORT -d $DEMO_DATABASE_NAME -U $DEMO_DATABASE_USER -O -j 8 donors_sampled_20210920_v3.dmp"
      ],
      "metadata": {
        "id": "ImdiugfVIXcq"
      },
      "execution_count": null,
      "outputs": []
    },
    {
      "cell_type": "code",
      "source": [
        "!pip install SQLAlchemy==1.3.18 PyYAML==6.0 psycopg2-binary==2.9.3"
      ],
      "metadata": {
        "id": "Uj114AFLIpug",
        "outputId": "3f485522-5289-4685-90fb-6d3a8cc684a4",
        "colab": {
          "base_uri": "https://localhost:8080/"
        }
      },
      "execution_count": null,
      "outputs": [
        {
          "output_type": "stream",
          "name": "stdout",
          "text": [
            "Collecting SQLAlchemy==1.3.18\n",
            "  Downloading SQLAlchemy-1.3.18.tar.gz (6.0 MB)\n",
            "\u001b[2K     \u001b[90m━━━━━━━━━━━━━━━━━━━━━━━━━━━━━━━━━━━━━━━━\u001b[0m \u001b[32m6.0/6.0 MB\u001b[0m \u001b[31m10.4 MB/s\u001b[0m eta \u001b[36m0:00:00\u001b[0m\n",
            "\u001b[?25h  Preparing metadata (setup.py) ... \u001b[?25l\u001b[?25hdone\n",
            "Collecting PyYAML==6.0\n",
            "  Downloading PyYAML-6.0-cp310-cp310-manylinux_2_5_x86_64.manylinux1_x86_64.manylinux_2_12_x86_64.manylinux2010_x86_64.whl (682 kB)\n",
            "\u001b[2K     \u001b[90m━━━━━━━━━━━━━━━━━━━━━━━━━━━━━━━━━━━━━━\u001b[0m \u001b[32m682.2/682.2 kB\u001b[0m \u001b[31m22.4 MB/s\u001b[0m eta \u001b[36m0:00:00\u001b[0m\n",
            "\u001b[?25hCollecting psycopg2-binary==2.9.3\n",
            "  Downloading psycopg2_binary-2.9.3-cp310-cp310-manylinux_2_17_x86_64.manylinux2014_x86_64.whl (3.0 MB)\n",
            "\u001b[2K     \u001b[90m━━━━━━━━━━━━━━━━━━━━━━━━━━━━━━━━━━━━━━━━\u001b[0m \u001b[32m3.0/3.0 MB\u001b[0m \u001b[31m31.0 MB/s\u001b[0m eta \u001b[36m0:00:00\u001b[0m\n",
            "\u001b[?25hBuilding wheels for collected packages: SQLAlchemy\n",
            "  Building wheel for SQLAlchemy (setup.py) ... \u001b[?25l\u001b[?25hdone\n",
            "  Created wheel for SQLAlchemy: filename=SQLAlchemy-1.3.18-cp310-cp310-linux_x86_64.whl size=1236053 sha256=23993047e97c5a14399d2c553b4ab6e252eae7f0f1e6ae10ffd67289437156ad\n",
            "  Stored in directory: /root/.cache/pip/wheels/c2/ce/f0/920f24badb829d2c35ec186a9646618cb7bbb5cbcfad7441a2\n",
            "Successfully built SQLAlchemy\n",
            "Installing collected packages: SQLAlchemy, PyYAML, psycopg2-binary\n",
            "  Attempting uninstall: SQLAlchemy\n",
            "    Found existing installation: SQLAlchemy 2.0.20\n",
            "    Uninstalling SQLAlchemy-2.0.20:\n",
            "      Successfully uninstalled SQLAlchemy-2.0.20\n",
            "  Attempting uninstall: PyYAML\n",
            "    Found existing installation: PyYAML 6.0.1\n",
            "    Uninstalling PyYAML-6.0.1:\n",
            "      Successfully uninstalled PyYAML-6.0.1\n",
            "\u001b[31mERROR: pip's dependency resolver does not currently take into account all the packages that are installed. This behaviour is the source of the following dependency conflicts.\n",
            "ipython-sql 0.5.0 requires sqlalchemy>=2.0, but you have sqlalchemy 1.3.18 which is incompatible.\u001b[0m\u001b[31m\n",
            "\u001b[0mSuccessfully installed PyYAML-6.0 SQLAlchemy-1.3.18 psycopg2-binary-2.9.3\n"
          ]
        }
      ]
    },
    {
      "cell_type": "code",
      "source": [
        "import pandas as pd\n",
        "pd.set_option('display.max_columns', None)"
      ],
      "metadata": {
        "id": "ZIZEHiMpANsU"
      },
      "execution_count": null,
      "outputs": []
    },
    {
      "cell_type": "code",
      "source": [
        "from sqlalchemy.engine.url import URL\n",
        "from sqlalchemy import create_engine\n",
        "\n",
        "db_url = URL(\n",
        "            'postgres',\n",
        "            host='localhost',\n",
        "            username='postgres',\n",
        "            database='donors_choose',\n",
        "            password='postgres',\n",
        "            port=5432,\n",
        "        )\n",
        "\n",
        "db_engine = create_engine(db_url)"
      ],
      "metadata": {
        "id": "JRYwIn-UJI6t"
      },
      "execution_count": null,
      "outputs": []
    },
    {
      "cell_type": "markdown",
      "source": [
        "# Querying the Database\n",
        "\n",
        "The code block above used the `sqlalchemy` module to create a connection to the database called `db_engine`. An easy way to run SQL queries against this database is to use the `read_sql` command provided by `pandas`. For instance, if you run the example below, it should return the number of projects in the sampled dataset (16,480):"
      ],
      "metadata": {
        "id": "9t7vS9VfKJm_"
      }
    },
    {
      "cell_type": "code",
      "source": [
        "pd.read_sql(\"SELECT COUNT(*) FROM data.projects\", db_engine)"
      ],
      "metadata": {
        "id": "fEpuSoSdJUN2",
        "outputId": "86fa25f0-9e27-4157-ceb9-97fffcbc10ee",
        "colab": {
          "base_uri": "https://localhost:8080/",
          "height": 80
        }
      },
      "execution_count": null,
      "outputs": [
        {
          "output_type": "execute_result",
          "data": {
            "text/plain": [
              "   count\n",
              "0  16480"
            ],
            "text/html": [
              "\n",
              "  <div id=\"df-fc68aa02-bbe3-46ec-8cf7-2a2dbf28dd19\" class=\"colab-df-container\">\n",
              "    <div>\n",
              "<style scoped>\n",
              "    .dataframe tbody tr th:only-of-type {\n",
              "        vertical-align: middle;\n",
              "    }\n",
              "\n",
              "    .dataframe tbody tr th {\n",
              "        vertical-align: top;\n",
              "    }\n",
              "\n",
              "    .dataframe thead th {\n",
              "        text-align: right;\n",
              "    }\n",
              "</style>\n",
              "<table border=\"1\" class=\"dataframe\">\n",
              "  <thead>\n",
              "    <tr style=\"text-align: right;\">\n",
              "      <th></th>\n",
              "      <th>count</th>\n",
              "    </tr>\n",
              "  </thead>\n",
              "  <tbody>\n",
              "    <tr>\n",
              "      <th>0</th>\n",
              "      <td>16480</td>\n",
              "    </tr>\n",
              "  </tbody>\n",
              "</table>\n",
              "</div>\n",
              "    <div class=\"colab-df-buttons\">\n",
              "\n",
              "  <div class=\"colab-df-container\">\n",
              "    <button class=\"colab-df-convert\" onclick=\"convertToInteractive('df-fc68aa02-bbe3-46ec-8cf7-2a2dbf28dd19')\"\n",
              "            title=\"Convert this dataframe to an interactive table.\"\n",
              "            style=\"display:none;\">\n",
              "\n",
              "  <svg xmlns=\"http://www.w3.org/2000/svg\" height=\"24px\" viewBox=\"0 -960 960 960\">\n",
              "    <path d=\"M120-120v-720h720v720H120Zm60-500h600v-160H180v160Zm220 220h160v-160H400v160Zm0 220h160v-160H400v160ZM180-400h160v-160H180v160Zm440 0h160v-160H620v160ZM180-180h160v-160H180v160Zm440 0h160v-160H620v160Z\"/>\n",
              "  </svg>\n",
              "    </button>\n",
              "\n",
              "  <style>\n",
              "    .colab-df-container {\n",
              "      display:flex;\n",
              "      gap: 12px;\n",
              "    }\n",
              "\n",
              "    .colab-df-convert {\n",
              "      background-color: #E8F0FE;\n",
              "      border: none;\n",
              "      border-radius: 50%;\n",
              "      cursor: pointer;\n",
              "      display: none;\n",
              "      fill: #1967D2;\n",
              "      height: 32px;\n",
              "      padding: 0 0 0 0;\n",
              "      width: 32px;\n",
              "    }\n",
              "\n",
              "    .colab-df-convert:hover {\n",
              "      background-color: #E2EBFA;\n",
              "      box-shadow: 0px 1px 2px rgba(60, 64, 67, 0.3), 0px 1px 3px 1px rgba(60, 64, 67, 0.15);\n",
              "      fill: #174EA6;\n",
              "    }\n",
              "\n",
              "    .colab-df-buttons div {\n",
              "      margin-bottom: 4px;\n",
              "    }\n",
              "\n",
              "    [theme=dark] .colab-df-convert {\n",
              "      background-color: #3B4455;\n",
              "      fill: #D2E3FC;\n",
              "    }\n",
              "\n",
              "    [theme=dark] .colab-df-convert:hover {\n",
              "      background-color: #434B5C;\n",
              "      box-shadow: 0px 1px 3px 1px rgba(0, 0, 0, 0.15);\n",
              "      filter: drop-shadow(0px 1px 2px rgba(0, 0, 0, 0.3));\n",
              "      fill: #FFFFFF;\n",
              "    }\n",
              "  </style>\n",
              "\n",
              "    <script>\n",
              "      const buttonEl =\n",
              "        document.querySelector('#df-fc68aa02-bbe3-46ec-8cf7-2a2dbf28dd19 button.colab-df-convert');\n",
              "      buttonEl.style.display =\n",
              "        google.colab.kernel.accessAllowed ? 'block' : 'none';\n",
              "\n",
              "      async function convertToInteractive(key) {\n",
              "        const element = document.querySelector('#df-fc68aa02-bbe3-46ec-8cf7-2a2dbf28dd19');\n",
              "        const dataTable =\n",
              "          await google.colab.kernel.invokeFunction('convertToInteractive',\n",
              "                                                    [key], {});\n",
              "        if (!dataTable) return;\n",
              "\n",
              "        const docLinkHtml = 'Like what you see? Visit the ' +\n",
              "          '<a target=\"_blank\" href=https://colab.research.google.com/notebooks/data_table.ipynb>data table notebook</a>'\n",
              "          + ' to learn more about interactive tables.';\n",
              "        element.innerHTML = '';\n",
              "        dataTable['output_type'] = 'display_data';\n",
              "        await google.colab.output.renderOutput(dataTable, element);\n",
              "        const docLink = document.createElement('div');\n",
              "        docLink.innerHTML = docLinkHtml;\n",
              "        element.appendChild(docLink);\n",
              "      }\n",
              "    </script>\n",
              "  </div>\n",
              "\n",
              "    </div>\n",
              "  </div>\n"
            ]
          },
          "metadata": {},
          "execution_count": 6
        }
      ]
    },
    {
      "cell_type": "markdown",
      "source": [
        "You can find some more details about the dataset on the [KDD Cup page](https://www.kaggle.com/c/kdd-cup-2014-predicting-excitement-at-donors-choose/data), but here is a quick description of the four main source tables:\n",
        "- `data.projects` contains information about each project that was posted on the site, including IDs for the project, school, and teacher, as well as the total amount being requested (note that projects can also request additional \"optional support\" but don't need to reach this higher bar to be funded)\n",
        "- `data.essays` has project titles and descriptions\n",
        "- `data.resources` has information about the specific resources being requested\n",
        "- `data.donations` contains details about each donation that was received by a project (when it came in, the amount, whether it was from another teacher, etc.)\n",
        "\n",
        "** Note that if you prefer to work in python to explore and manipulate the data, you can download a full table (for example, `data.projects`) into a pandas dataframe via**:\n",
        "```\n",
        "projects_df = pd.read_sql(\"SELECT * FROM data.projects\", db_engine)\n",
        "```"
      ],
      "metadata": {
        "id": "UECOSNF-8pTs"
      }
    },
    {
      "cell_type": "markdown",
      "source": [
        "## Want other packages?\n",
        "If you need to install any other python modules for your analysis, you can easily do so from a code block by prefixing your `pip install` command with an `!` character. For instance:\n",
        "```\n",
        "!pip install PyYAML\n",
        "```"
      ],
      "metadata": {
        "id": "7bLEVeYa8IGY"
      }
    },
    {
      "cell_type": "markdown",
      "source": [
        "# QUESTION 1\n",
        "\n",
        "**(A)** Create a scatter plot of the number of resources requested vs fraction of the total ask amount that was funded across all projects in New Hampshire. (Hint: You'll need to join a couple of tables here to figure out the amount donated to a project)"
      ],
      "metadata": {
        "id": "IIRe2r2tKNJI"
      }
    },
    {
      "cell_type": "code",
      "source": [
        "import numpy as np\n",
        "import matplotlib.pyplot as plt\n",
        "\n",
        "projects_df = pd.read_sql(\"SELECT * FROM data.projects WHERE school_state='NH'\", db_engine)\n",
        "project_ids = projects_df['projectid_str']"
      ],
      "metadata": {
        "id": "108ogvgOJrpF"
      },
      "execution_count": null,
      "outputs": []
    },
    {
      "cell_type": "code",
      "source": [
        "resources_df = pd.read_sql(\"SELECT * FROM data.resources\", db_engine)\n",
        "donations_df = pd.read_sql(\"SELECT * FROM data.donations\", db_engine)\n",
        "\n",
        "num_resources = []\n",
        "for proj in project_ids:\n",
        "   proj_df = resources_df[resources_df['projectid_str']==proj]\n",
        "   resources = len(proj_df['resourceid'])\n",
        "   num_resources.append(resources)\n"
      ],
      "metadata": {
        "id": "rszmIxacGMQl"
      },
      "execution_count": null,
      "outputs": []
    },
    {
      "cell_type": "code",
      "source": [
        "asking_price = pd.read_sql(\"SELECT projectid_str, total_asking_price FROM data.projects\", db_engine)\n",
        "donation_price = pd.read_sql(\"SELECT projectid_str, donation_to_project FROM data.donations\", db_engine)\n",
        "merged = pd.merge(asking_price, donation_price, on='projectid_str', how='outer')\n",
        "merged.fillna(0, inplace=True)\n"
      ],
      "metadata": {
        "id": "nzckXdxGHfel"
      },
      "execution_count": null,
      "outputs": []
    },
    {
      "cell_type": "code",
      "source": [
        "fund_ratio = []\n",
        "for proj in project_ids:\n",
        "  proj_df = merged[merged['projectid_str'] == proj]\n",
        "  ask = proj_df['total_asking_price'].sum()\n",
        "  donate = proj_df['donation_to_project'].sum()\n",
        "  fund_ratio.append(donate/ask)\n",
        "\n"
      ],
      "metadata": {
        "id": "5VGy7F-yLNXi"
      },
      "execution_count": null,
      "outputs": []
    },
    {
      "cell_type": "code",
      "source": [
        "plt.scatter(num_resources, fund_ratio, label='Scatterplot', color='blue', marker='o')\n",
        "plt.xlabel(\"Num of Resources\")\n",
        "plt.ylabel(\"Ratios Funded\")\n",
        "plt.show()"
      ],
      "metadata": {
        "id": "lCmfBEpwZSlE",
        "outputId": "ea4f786f-a083-48b9-861d-4d28202aa7a7",
        "colab": {
          "base_uri": "https://localhost:8080/",
          "height": 449
        }
      },
      "execution_count": null,
      "outputs": [
        {
          "output_type": "display_data",
          "data": {
            "text/plain": [
              "<Figure size 640x480 with 1 Axes>"
            ],
            "image/png": "[encoded data removed]"
          },
          "metadata": {}
        }
      ]
    },
    {
      "cell_type": "markdown",
      "source": [
        "**(B)** Spend a little time exploring the data, with a focus on the outcome of whether or not a project is fully funded after 4 months as well as features you think might be predictive of this outcome."
      ],
      "metadata": {
        "id": "OozrlP8dN7zG"
      }
    },
    {
      "cell_type": "code",
      "source": [
        "projects_df['date_posted']"
      ],
      "metadata": {
        "id": "7VM13FC4i4y6",
        "outputId": "2fee9325-62a1-494d-cec0-cd845552b139",
        "colab": {
          "base_uri": "https://localhost:8080/"
        }
      },
      "execution_count": null,
      "outputs": [
        {
          "output_type": "execute_result",
          "data": {
            "text/plain": [
              "0    2012-12-20\n",
              "1    2010-09-18\n",
              "2    2013-11-15\n",
              "3    2008-03-10\n",
              "4    2008-11-28\n",
              "5    2009-05-04\n",
              "6    2009-06-12\n",
              "7    2009-06-12\n",
              "8    2009-06-14\n",
              "9    2009-06-22\n",
              "10   2009-06-30\n",
              "11   2009-08-22\n",
              "12   2009-11-01\n",
              "13   2009-11-02\n",
              "14   2010-02-05\n",
              "15   2010-02-14\n",
              "16   2010-02-28\n",
              "17   2010-04-01\n",
              "18   2010-06-27\n",
              "19   2010-07-16\n",
              "20   2010-09-26\n",
              "21   2010-09-30\n",
              "22   2010-11-23\n",
              "23   2011-01-02\n",
              "24   2011-02-18\n",
              "25   2011-02-18\n",
              "26   2011-03-13\n",
              "27   2011-04-09\n",
              "28   2011-08-21\n",
              "29   2011-08-21\n",
              "30   2011-08-21\n",
              "31   2013-07-16\n",
              "32   2013-07-19\n",
              "33   2013-11-05\n",
              "34   2013-11-30\n",
              "35   2013-12-08\n",
              "36   2013-12-31\n",
              "37   2014-01-01\n",
              "38   2014-05-10\n",
              "Name: date_posted, dtype: datetime64[ns]"
            ]
          },
          "metadata": {},
          "execution_count": 266
        }
      ]
    },
    {
      "cell_type": "code",
      "source": [
        "donations_df"
      ],
      "metadata": {
        "id": "5cf45q3GjGkR",
        "outputId": "66dbc4c8-c280-4cda-a6c9-c28e328c11f4",
        "colab": {
          "base_uri": "https://localhost:8080/",
          "height": 660
        }
      },
      "execution_count": null,
      "outputs": [
        {
          "output_type": "execute_result",
          "data": {
            "text/plain": [
              "                             donationid                     projectid_str  \\\n",
              "0      705ef855c2d90eed594cf26e634add93  fb9d9bebbd2309cbd948a03c00ec65b0   \n",
              "1      59b71f584f3516f75d4e98d8acbaa65f  f93456e60338550f3ad7a2a0e87617dd   \n",
              "2      8bcc055f586e0343dd8779fdd8ac4775  f7848f096af41049e8dc6af81139d2b6   \n",
              "3      3afbbc4257049362dab620251c49a4a0  f3d5ec1500fe57584856d4cce2d66161   \n",
              "4      acf6e26e501def0b285834026459e592  f33b72a6093a64696d3a8e7ef2d0afa7   \n",
              "...                                 ...                               ...   \n",
              "68949  966be3d8a09450946186a0f808ff27f0  fff2173cd82bd5bfd255a33018cdf87e   \n",
              "68950  7037d9550aee1bac99102e96d34b3df2  fff2173cd82bd5bfd255a33018cdf87e   \n",
              "68951  336b26182fcbbbc3003ad9af87226395  fff2173cd82bd5bfd255a33018cdf87e   \n",
              "68952  e8c92b166649bc7bbcf8ace4b09558c1  fffc3632fd681fde1113eae31ca027d4   \n",
              "68953  86ad8208d27a31edeea02e5a205a9aa5  fffc3632fd681fde1113eae31ca027d4   \n",
              "\n",
              "                           donor_acctid      donor_city donor_state donor_zip  \\\n",
              "0      112631d2731d90f8ac0ae542d67904fe                        None      None   \n",
              "1      127936d3a07b33d3012bb23a9464532a          Austin          TX     78704   \n",
              "2      55223d1a24127d2fcce3a0b45e917b03         Chicago          IL     60093   \n",
              "3      88c6f8743b0340853b548404f8de9e5b            None          PR      None   \n",
              "4      85e51d426e69e46b785b0225117b7e8b            None        None      None   \n",
              "...                                 ...             ...         ...       ...   \n",
              "68949  55ea16e9efe339ed11a8ee78fd97704c                        None      None   \n",
              "68950  3e908ffff654f2363dfd6cc42c04a797         CLIFTON          NJ     07012   \n",
              "68951  81728d858349736bd17eee6e38d73b84  egg harbor twp          NJ     08234   \n",
              "68952  22df8a7bf0b7332022fce950da70daba            None        None      None   \n",
              "68953  04fe26a9b0cd2908cb770faf855df7af                          TX      None   \n",
              "\n",
              "       is_teacher_acct      donation_timestamp  donation_to_project  \\\n",
              "0                False 2009-11-09 10:49:34.648                41.00   \n",
              "1                False 2011-09-02 08:48:01.447                85.00   \n",
              "2                False 2013-12-01 09:49:55.145                17.00   \n",
              "3                False 2013-05-13 09:41:48.006                 4.25   \n",
              "4                 True 2011-01-11 18:58:57.280                 8.50   \n",
              "...                ...                     ...                  ...   \n",
              "68949            False 2008-11-21 20:13:23.106                 7.50   \n",
              "68950            False 2009-01-15 11:48:52.388                 7.50   \n",
              "68951            False 2009-01-15 11:48:52.438                26.75   \n",
              "68952            False 2012-12-10 09:39:30.486                 8.50   \n",
              "68953            False 2013-03-17 21:09:25.226                 8.50   \n",
              "\n",
              "       donation_optional_support  donation_total dollar_amount  \\\n",
              "0                           9.00           50.00     10_to_100   \n",
              "1                          15.00          100.00    100_and_up   \n",
              "2                           3.00           20.00     10_to_100   \n",
              "3                           0.75            5.00      under_10   \n",
              "4                           1.50           10.00     10_to_100   \n",
              "...                          ...             ...           ...   \n",
              "68949                       2.50           10.00     10_to_100   \n",
              "68950                       2.50           10.00     10_to_100   \n",
              "68951                       8.92           35.67     10_to_100   \n",
              "68952                       1.50           10.00     10_to_100   \n",
              "68953                       1.50           10.00     10_to_100   \n",
              "\n",
              "       donation_included_optional_support    payment_method  \\\n",
              "0                                    True  no_cash_received   \n",
              "1                                    True            paypal   \n",
              "2                                    True            amazon   \n",
              "3                                    True  no_cash_received   \n",
              "4                                    True        creditcard   \n",
              "...                                   ...               ...   \n",
              "68949                                True  no_cash_received   \n",
              "68950                                True  no_cash_received   \n",
              "68951                                True  no_cash_received   \n",
              "68952                                True  no_cash_received   \n",
              "68953                                True  no_cash_received   \n",
              "\n",
              "       payment_included_acct_creadit  payment_included_campaign_gift_card  \\\n",
              "0                              False                                 True   \n",
              "1                              False                                False   \n",
              "2                              False                                False   \n",
              "3                              False                                 True   \n",
              "4                              False                                False   \n",
              "...                              ...                                  ...   \n",
              "68949                          False                                 True   \n",
              "68950                          False                                 True   \n",
              "68951                          False                                 True   \n",
              "68952                          False                                 True   \n",
              "68953                           True                                False   \n",
              "\n",
              "       payment_included_web_purchased_gift_card  payment_was_promo_matched  \\\n",
              "0                                         False                      False   \n",
              "1                                         False                      False   \n",
              "2                                         False                      False   \n",
              "3                                         False                      False   \n",
              "4                                         False                      False   \n",
              "...                                         ...                        ...   \n",
              "68949                                     False                      False   \n",
              "68950                                     False                      False   \n",
              "68951                                     False                      False   \n",
              "68952                                     False                      False   \n",
              "68953                                     False                      False   \n",
              "\n",
              "       via_giving_page  for_honoree  \\\n",
              "0                False        False   \n",
              "1                 True        False   \n",
              "2                False        False   \n",
              "3                False        False   \n",
              "4                 True        False   \n",
              "...                ...          ...   \n",
              "68949            False        False   \n",
              "68950            False        False   \n",
              "68951            False        False   \n",
              "68952            False        False   \n",
              "68953            False        False   \n",
              "\n",
              "                                        donation_message  entity_id  \n",
              "0                                                   None     495172  \n",
              "1                                                   None     336273  \n",
              "2                                                   None      99049  \n",
              "3                                                  Cause     173719  \n",
              "4                                                   None     395246  \n",
              "...                                                  ...        ...  \n",
              "68949  I gave to this project because...this is in my...     555868  \n",
              "68950                                               None     555868  \n",
              "68951                                               None     555868  \n",
              "68952  I donated because I want to support kids in Te...     195612  \n",
              "68953  I helped because I'm a strong believer in Lite...     195612  \n",
              "\n",
              "[68954 rows x 22 columns]"
            ],
            "text/html": [
              "\n",
              "  <div id=\"df-c7da9598-08f5-4335-95b1-a6846260a700\" class=\"colab-df-container\">\n",
              "    <div>\n",
              "<style scoped>\n",
              "    .dataframe tbody tr th:only-of-type {\n",
              "        vertical-align: middle;\n",
              "    }\n",
              "\n",
              "    .dataframe tbody tr th {\n",
              "        vertical-align: top;\n",
              "    }\n",
              "\n",
              "    .dataframe thead th {\n",
              "        text-align: right;\n",
              "    }\n",
              "</style>\n",
              "<table border=\"1\" class=\"dataframe\">\n",
              "  <thead>\n",
              "    <tr style=\"text-align: right;\">\n",
              "      <th></th>\n",
              "      <th>donationid</th>\n",
              "      <th>projectid_str</th>\n",
              "      <th>donor_acctid</th>\n",
              "      <th>donor_city</th>\n",
              "      <th>donor_state</th>\n",
              "      <th>donor_zip</th>\n",
              "      <th>is_teacher_acct</th>\n",
              "      <th>donation_timestamp</th>\n",
              "      <th>donation_to_project</th>\n",
              "      <th>donation_optional_support</th>\n",
              "      <th>donation_total</th>\n",
              "      <th>dollar_amount</th>\n",
              "      <th>donation_included_optional_support</th>\n",
              "      <th>payment_method</th>\n",
              "      <th>payment_included_acct_creadit</th>\n",
              "      <th>payment_included_campaign_gift_card</th>\n",
              "      <th>payment_included_web_purchased_gift_card</th>\n",
              "      <th>payment_was_promo_matched</th>\n",
              "      <th>via_giving_page</th>\n",
              "      <th>for_honoree</th>\n",
              "      <th>donation_message</th>\n",
              "      <th>entity_id</th>\n",
              "    </tr>\n",
              "  </thead>\n",
              "  <tbody>\n",
              "    <tr>\n",
              "      <th>0</th>\n",
              "      <td>705ef855c2d90eed594cf26e634add93</td>\n",
              "      <td>fb9d9bebbd2309cbd948a03c00ec65b0</td>\n",
              "      <td>112631d2731d90f8ac0ae542d67904fe</td>\n",
              "      <td></td>\n",
              "      <td>None</td>\n",
              "      <td>None</td>\n",
              "      <td>False</td>\n",
              "      <td>2009-11-09 10:49:34.648</td>\n",
              "      <td>41.00</td>\n",
              "      <td>9.00</td>\n",
              "      <td>50.00</td>\n",
              "      <td>10_to_100</td>\n",
              "      <td>True</td>\n",
              "      <td>no_cash_received</td>\n",
              "      <td>False</td>\n",
              "      <td>True</td>\n",
              "      <td>False</td>\n",
              "      <td>False</td>\n",
              "      <td>False</td>\n",
              "      <td>False</td>\n",
              "      <td>None</td>\n",
              "      <td>495172</td>\n",
              "    </tr>\n",
              "    <tr>\n",
              "      <th>1</th>\n",
              "      <td>59b71f584f3516f75d4e98d8acbaa65f</td>\n",
              "      <td>f93456e60338550f3ad7a2a0e87617dd</td>\n",
              "      <td>127936d3a07b33d3012bb23a9464532a</td>\n",
              "      <td>Austin</td>\n",
              "      <td>TX</td>\n",
              "      <td>78704</td>\n",
              "      <td>False</td>\n",
              "      <td>2011-09-02 08:48:01.447</td>\n",
              "      <td>85.00</td>\n",
              "      <td>15.00</td>\n",
              "      <td>100.00</td>\n",
              "      <td>100_and_up</td>\n",
              "      <td>True</td>\n",
              "      <td>paypal</td>\n",
              "      <td>False</td>\n",
              "      <td>False</td>\n",
              "      <td>False</td>\n",
              "      <td>False</td>\n",
              "      <td>True</td>\n",
              "      <td>False</td>\n",
              "      <td>None</td>\n",
              "      <td>336273</td>\n",
              "    </tr>\n",
              "    <tr>\n",
              "      <th>2</th>\n",
              "      <td>8bcc055f586e0343dd8779fdd8ac4775</td>\n",
              "      <td>f7848f096af41049e8dc6af81139d2b6</td>\n",
              "      <td>55223d1a24127d2fcce3a0b45e917b03</td>\n",
              "      <td>Chicago</td>\n",
              "      <td>IL</td>\n",
              "      <td>60093</td>\n",
              "      <td>False</td>\n",
              "      <td>2013-12-01 09:49:55.145</td>\n",
              "      <td>17.00</td>\n",
              "      <td>3.00</td>\n",
              "      <td>20.00</td>\n",
              "      <td>10_to_100</td>\n",
              "      <td>True</td>\n",
              "      <td>amazon</td>\n",
              "      <td>False</td>\n",
              "      <td>False</td>\n",
              "      <td>False</td>\n",
              "      <td>False</td>\n",
              "      <td>False</td>\n",
              "      <td>False</td>\n",
              "      <td>None</td>\n",
              "      <td>99049</td>\n",
              "    </tr>\n",
              "    <tr>\n",
              "      <th>3</th>\n",
              "      <td>3afbbc4257049362dab620251c49a4a0</td>\n",
              "      <td>f3d5ec1500fe57584856d4cce2d66161</td>\n",
              "      <td>88c6f8743b0340853b548404f8de9e5b</td>\n",
              "      <td>None</td>\n",
              "      <td>PR</td>\n",
              "      <td>None</td>\n",
              "      <td>False</td>\n",
              "      <td>2013-05-13 09:41:48.006</td>\n",
              "      <td>4.25</td>\n",
              "      <td>0.75</td>\n",
              "      <td>5.00</td>\n",
              "      <td>under_10</td>\n",
              "      <td>True</td>\n",
              "      <td>no_cash_received</td>\n",
              "      <td>False</td>\n",
              "      <td>True</td>\n",
              "      <td>False</td>\n",
              "      <td>False</td>\n",
              "      <td>False</td>\n",
              "      <td>False</td>\n",
              "      <td>Cause</td>\n",
              "      <td>173719</td>\n",
              "    </tr>\n",
              "    <tr>\n",
              "      <th>4</th>\n",
              "      <td>acf6e26e501def0b285834026459e592</td>\n",
              "      <td>f33b72a6093a64696d3a8e7ef2d0afa7</td>\n",
              "      <td>85e51d426e69e46b785b0225117b7e8b</td>\n",
              "      <td>None</td>\n",
              "      <td>None</td>\n",
              "      <td>None</td>\n",
              "      <td>True</td>\n",
              "      <td>2011-01-11 18:58:57.280</td>\n",
              "      <td>8.50</td>\n",
              "      <td>1.50</td>\n",
              "      <td>10.00</td>\n",
              "      <td>10_to_100</td>\n",
              "      <td>True</td>\n",
              "      <td>creditcard</td>\n",
              "      <td>False</td>\n",
              "      <td>False</td>\n",
              "      <td>False</td>\n",
              "      <td>False</td>\n",
              "      <td>True</td>\n",
              "      <td>False</td>\n",
              "      <td>None</td>\n",
              "      <td>395246</td>\n",
              "    </tr>\n",
              "    <tr>\n",
              "      <th>...</th>\n",
              "      <td>...</td>\n",
              "      <td>...</td>\n",
              "      <td>...</td>\n",
              "      <td>...</td>\n",
              "      <td>...</td>\n",
              "      <td>...</td>\n",
              "      <td>...</td>\n",
              "      <td>...</td>\n",
              "      <td>...</td>\n",
              "      <td>...</td>\n",
              "      <td>...</td>\n",
              "      <td>...</td>\n",
              "      <td>...</td>\n",
              "      <td>...</td>\n",
              "      <td>...</td>\n",
              "      <td>...</td>\n",
              "      <td>...</td>\n",
              "      <td>...</td>\n",
              "      <td>...</td>\n",
              "      <td>...</td>\n",
              "      <td>...</td>\n",
              "      <td>...</td>\n",
              "    </tr>\n",
              "    <tr>\n",
              "      <th>68949</th>\n",
              "      <td>966be3d8a09450946186a0f808ff27f0</td>\n",
              "      <td>fff2173cd82bd5bfd255a33018cdf87e</td>\n",
              "      <td>55ea16e9efe339ed11a8ee78fd97704c</td>\n",
              "      <td></td>\n",
              "      <td>None</td>\n",
              "      <td>None</td>\n",
              "      <td>False</td>\n",
              "      <td>2008-11-21 20:13:23.106</td>\n",
              "      <td>7.50</td>\n",
              "      <td>2.50</td>\n",
              "      <td>10.00</td>\n",
              "      <td>10_to_100</td>\n",
              "      <td>True</td>\n",
              "      <td>no_cash_received</td>\n",
              "      <td>False</td>\n",
              "      <td>True</td>\n",
              "      <td>False</td>\n",
              "      <td>False</td>\n",
              "      <td>False</td>\n",
              "      <td>False</td>\n",
              "      <td>I gave to this project because...this is in my...</td>\n",
              "      <td>555868</td>\n",
              "    </tr>\n",
              "    <tr>\n",
              "      <th>68950</th>\n",
              "      <td>7037d9550aee1bac99102e96d34b3df2</td>\n",
              "      <td>fff2173cd82bd5bfd255a33018cdf87e</td>\n",
              "      <td>3e908ffff654f2363dfd6cc42c04a797</td>\n",
              "      <td>CLIFTON</td>\n",
              "      <td>NJ</td>\n",
              "      <td>07012</td>\n",
              "      <td>False</td>\n",
              "      <td>2009-01-15 11:48:52.388</td>\n",
              "      <td>7.50</td>\n",
              "      <td>2.50</td>\n",
              "      <td>10.00</td>\n",
              "      <td>10_to_100</td>\n",
              "      <td>True</td>\n",
              "      <td>no_cash_received</td>\n",
              "      <td>False</td>\n",
              "      <td>True</td>\n",
              "      <td>False</td>\n",
              "      <td>False</td>\n",
              "      <td>False</td>\n",
              "      <td>False</td>\n",
              "      <td>None</td>\n",
              "      <td>555868</td>\n",
              "    </tr>\n",
              "    <tr>\n",
              "      <th>68951</th>\n",
              "      <td>336b26182fcbbbc3003ad9af87226395</td>\n",
              "      <td>fff2173cd82bd5bfd255a33018cdf87e</td>\n",
              "      <td>81728d858349736bd17eee6e38d73b84</td>\n",
              "      <td>egg harbor twp</td>\n",
              "      <td>NJ</td>\n",
              "      <td>08234</td>\n",
              "      <td>False</td>\n",
              "      <td>2009-01-15 11:48:52.438</td>\n",
              "      <td>26.75</td>\n",
              "      <td>8.92</td>\n",
              "      <td>35.67</td>\n",
              "      <td>10_to_100</td>\n",
              "      <td>True</td>\n",
              "      <td>no_cash_received</td>\n",
              "      <td>False</td>\n",
              "      <td>True</td>\n",
              "      <td>False</td>\n",
              "      <td>False</td>\n",
              "      <td>False</td>\n",
              "      <td>False</td>\n",
              "      <td>None</td>\n",
              "      <td>555868</td>\n",
              "    </tr>\n",
              "    <tr>\n",
              "      <th>68952</th>\n",
              "      <td>e8c92b166649bc7bbcf8ace4b09558c1</td>\n",
              "      <td>fffc3632fd681fde1113eae31ca027d4</td>\n",
              "      <td>22df8a7bf0b7332022fce950da70daba</td>\n",
              "      <td>None</td>\n",
              "      <td>None</td>\n",
              "      <td>None</td>\n",
              "      <td>False</td>\n",
              "      <td>2012-12-10 09:39:30.486</td>\n",
              "      <td>8.50</td>\n",
              "      <td>1.50</td>\n",
              "      <td>10.00</td>\n",
              "      <td>10_to_100</td>\n",
              "      <td>True</td>\n",
              "      <td>no_cash_received</td>\n",
              "      <td>False</td>\n",
              "      <td>True</td>\n",
              "      <td>False</td>\n",
              "      <td>False</td>\n",
              "      <td>False</td>\n",
              "      <td>False</td>\n",
              "      <td>I donated because I want to support kids in Te...</td>\n",
              "      <td>195612</td>\n",
              "    </tr>\n",
              "    <tr>\n",
              "      <th>68953</th>\n",
              "      <td>86ad8208d27a31edeea02e5a205a9aa5</td>\n",
              "      <td>fffc3632fd681fde1113eae31ca027d4</td>\n",
              "      <td>04fe26a9b0cd2908cb770faf855df7af</td>\n",
              "      <td></td>\n",
              "      <td>TX</td>\n",
              "      <td>None</td>\n",
              "      <td>False</td>\n",
              "      <td>2013-03-17 21:09:25.226</td>\n",
              "      <td>8.50</td>\n",
              "      <td>1.50</td>\n",
              "      <td>10.00</td>\n",
              "      <td>10_to_100</td>\n",
              "      <td>True</td>\n",
              "      <td>no_cash_received</td>\n",
              "      <td>True</td>\n",
              "      <td>False</td>\n",
              "      <td>False</td>\n",
              "      <td>False</td>\n",
              "      <td>False</td>\n",
              "      <td>False</td>\n",
              "      <td>I helped because I'm a strong believer in Lite...</td>\n",
              "      <td>195612</td>\n",
              "    </tr>\n",
              "  </tbody>\n",
              "</table>\n",
              "<p>68954 rows × 22 columns</p>\n",
              "</div>\n",
              "    <div class=\"colab-df-buttons\">\n",
              "\n",
              "  <div class=\"colab-df-container\">\n",
              "    <button class=\"colab-df-convert\" onclick=\"convertToInteractive('df-c7da9598-08f5-4335-95b1-a6846260a700')\"\n",
              "            title=\"Convert this dataframe to an interactive table.\"\n",
              "            style=\"display:none;\">\n",
              "\n",
              "  <svg xmlns=\"http://www.w3.org/2000/svg\" height=\"24px\" viewBox=\"0 -960 960 960\">\n",
              "    <path d=\"M120-120v-720h720v720H120Zm60-500h600v-160H180v160Zm220 220h160v-160H400v160Zm0 220h160v-160H400v160ZM180-400h160v-160H180v160Zm440 0h160v-160H620v160ZM180-180h160v-160H180v160Zm440 0h160v-160H620v160Z\"/>\n",
              "  </svg>\n",
              "    </button>\n",
              "\n",
              "  <style>\n",
              "    .colab-df-container {\n",
              "      display:flex;\n",
              "      gap: 12px;\n",
              "    }\n",
              "\n",
              "    .colab-df-convert {\n",
              "      background-color: #E8F0FE;\n",
              "      border: none;\n",
              "      border-radius: 50%;\n",
              "      cursor: pointer;\n",
              "      display: none;\n",
              "      fill: #1967D2;\n",
              "      height: 32px;\n",
              "      padding: 0 0 0 0;\n",
              "      width: 32px;\n",
              "    }\n",
              "\n",
              "    .colab-df-convert:hover {\n",
              "      background-color: #E2EBFA;\n",
              "      box-shadow: 0px 1px 2px rgba(60, 64, 67, 0.3), 0px 1px 3px 1px rgba(60, 64, 67, 0.15);\n",
              "      fill: #174EA6;\n",
              "    }\n",
              "\n",
              "    .colab-df-buttons div {\n",
              "      margin-bottom: 4px;\n",
              "    }\n",
              "\n",
              "    [theme=dark] .colab-df-convert {\n",
              "      background-color: #3B4455;\n",
              "      fill: #D2E3FC;\n",
              "    }\n",
              "\n",
              "    [theme=dark] .colab-df-convert:hover {\n",
              "      background-color: #434B5C;\n",
              "      box-shadow: 0px 1px 3px 1px rgba(0, 0, 0, 0.15);\n",
              "      filter: drop-shadow(0px 1px 2px rgba(0, 0, 0, 0.3));\n",
              "      fill: #FFFFFF;\n",
              "    }\n",
              "  </style>\n",
              "\n",
              "    <script>\n",
              "      const buttonEl =\n",
              "        document.querySelector('#df-c7da9598-08f5-4335-95b1-a6846260a700 button.colab-df-convert');\n",
              "      buttonEl.style.display =\n",
              "        google.colab.kernel.accessAllowed ? 'block' : 'none';\n",
              "\n",
              "      async function convertToInteractive(key) {\n",
              "        const element = document.querySelector('#df-c7da9598-08f5-4335-95b1-a6846260a700');\n",
              "        const dataTable =\n",
              "          await google.colab.kernel.invokeFunction('convertToInteractive',\n",
              "                                                    [key], {});\n",
              "        if (!dataTable) return;\n",
              "\n",
              "        const docLinkHtml = 'Like what you see? Visit the ' +\n",
              "          '<a target=\"_blank\" href=https://colab.research.google.com/notebooks/data_table.ipynb>data table notebook</a>'\n",
              "          + ' to learn more about interactive tables.';\n",
              "        element.innerHTML = '';\n",
              "        dataTable['output_type'] = 'display_data';\n",
              "        await google.colab.output.renderOutput(dataTable, element);\n",
              "        const docLink = document.createElement('div');\n",
              "        docLink.innerHTML = docLinkHtml;\n",
              "        element.appendChild(docLink);\n",
              "      }\n",
              "    </script>\n",
              "  </div>\n",
              "\n",
              "\n",
              "<div id=\"df-fbc824d8-2c4c-433b-a5d9-e79b8e23826a\">\n",
              "  <button class=\"colab-df-quickchart\" onclick=\"quickchart('df-fbc824d8-2c4c-433b-a5d9-e79b8e23826a')\"\n",
              "            title=\"Suggest charts.\"\n",
              "            style=\"display:none;\">\n",
              "\n",
              "<svg xmlns=\"http://www.w3.org/2000/svg\" height=\"24px\"viewBox=\"0 0 24 24\"\n",
              "     width=\"24px\">\n",
              "    <g>\n",
              "        <path d=\"M19 3H5c-1.1 0-2 .9-2 2v14c0 1.1.9 2 2 2h14c1.1 0 2-.9 2-2V5c0-1.1-.9-2-2-2zM9 17H7v-7h2v7zm4 0h-2V7h2v10zm4 0h-2v-4h2v4z\"/>\n",
              "    </g>\n",
              "</svg>\n",
              "  </button>\n",
              "\n",
              "<style>\n",
              "  .colab-df-quickchart {\n",
              "      --bg-color: #E8F0FE;\n",
              "      --fill-color: #1967D2;\n",
              "      --hover-bg-color: #E2EBFA;\n",
              "      --hover-fill-color: #174EA6;\n",
              "      --disabled-fill-color: #AAA;\n",
              "      --disabled-bg-color: #DDD;\n",
              "  }\n",
              "\n",
              "  [theme=dark] .colab-df-quickchart {\n",
              "      --bg-color: #3B4455;\n",
              "      --fill-color: #D2E3FC;\n",
              "      --hover-bg-color: #434B5C;\n",
              "      --hover-fill-color: #FFFFFF;\n",
              "      --disabled-bg-color: #3B4455;\n",
              "      --disabled-fill-color: #666;\n",
              "  }\n",
              "\n",
              "  .colab-df-quickchart {\n",
              "    background-color: var(--bg-color);\n",
              "    border: none;\n",
              "    border-radius: 50%;\n",
              "    cursor: pointer;\n",
              "    display: none;\n",
              "    fill: var(--fill-color);\n",
              "    height: 32px;\n",
              "    padding: 0;\n",
              "    width: 32px;\n",
              "  }\n",
              "\n",
              "  .colab-df-quickchart:hover {\n",
              "    background-color: var(--hover-bg-color);\n",
              "    box-shadow: 0 1px 2px rgba(60, 64, 67, 0.3), 0 1px 3px 1px rgba(60, 64, 67, 0.15);\n",
              "    fill: var(--button-hover-fill-color);\n",
              "  }\n",
              "\n",
              "  .colab-df-quickchart-complete:disabled,\n",
              "  .colab-df-quickchart-complete:disabled:hover {\n",
              "    background-color: var(--disabled-bg-color);\n",
              "    fill: var(--disabled-fill-color);\n",
              "    box-shadow: none;\n",
              "  }\n",
              "\n",
              "  .colab-df-spinner {\n",
              "    border: 2px solid var(--fill-color);\n",
              "    border-color: transparent;\n",
              "    border-bottom-color: var(--fill-color);\n",
              "    animation:\n",
              "      spin 1s steps(1) infinite;\n",
              "  }\n",
              "\n",
              "  @keyframes spin {\n",
              "    0% {\n",
              "      border-color: transparent;\n",
              "      border-bottom-color: var(--fill-color);\n",
              "      border-left-color: var(--fill-color);\n",
              "    }\n",
              "    20% {\n",
              "      border-color: transparent;\n",
              "      border-left-color: var(--fill-color);\n",
              "      border-top-color: var(--fill-color);\n",
              "    }\n",
              "    30% {\n",
              "      border-color: transparent;\n",
              "      border-left-color: var(--fill-color);\n",
              "      border-top-color: var(--fill-color);\n",
              "      border-right-color: var(--fill-color);\n",
              "    }\n",
              "    40% {\n",
              "      border-color: transparent;\n",
              "      border-right-color: var(--fill-color);\n",
              "      border-top-color: var(--fill-color);\n",
              "    }\n",
              "    60% {\n",
              "      border-color: transparent;\n",
              "      border-right-color: var(--fill-color);\n",
              "    }\n",
              "    80% {\n",
              "      border-color: transparent;\n",
              "      border-right-color: var(--fill-color);\n",
              "      border-bottom-color: var(--fill-color);\n",
              "    }\n",
              "    90% {\n",
              "      border-color: transparent;\n",
              "      border-bottom-color: var(--fill-color);\n",
              "    }\n",
              "  }\n",
              "</style>\n",
              "\n",
              "  <script>\n",
              "    async function quickchart(key) {\n",
              "      const quickchartButtonEl =\n",
              "        document.querySelector('#' + key + ' button');\n",
              "      quickchartButtonEl.disabled = true;  // To prevent multiple clicks.\n",
              "      quickchartButtonEl.classList.add('colab-df-spinner');\n",
              "      try {\n",
              "        const charts = await google.colab.kernel.invokeFunction(\n",
              "            'suggestCharts', [key], {});\n",
              "      } catch (error) {\n",
              "        console.error('Error during call to suggestCharts:', error);\n",
              "      }\n",
              "      quickchartButtonEl.classList.remove('colab-df-spinner');\n",
              "      quickchartButtonEl.classList.add('colab-df-quickchart-complete');\n",
              "    }\n",
              "    (() => {\n",
              "      let quickchartButtonEl =\n",
              "        document.querySelector('#df-fbc824d8-2c4c-433b-a5d9-e79b8e23826a button');\n",
              "      quickchartButtonEl.style.display =\n",
              "        google.colab.kernel.accessAllowed ? 'block' : 'none';\n",
              "    })();\n",
              "  </script>\n",
              "</div>\n",
              "    </div>\n",
              "  </div>\n"
            ]
          },
          "metadata": {},
          "execution_count": 267
        }
      ]
    },
    {
      "cell_type": "code",
      "source": [],
      "metadata": {
        "id": "HnaQxSP9i41h"
      },
      "execution_count": null,
      "outputs": []
    },
    {
      "cell_type": "code",
      "source": [],
      "metadata": {
        "id": "vF1X2FL0i44p"
      },
      "execution_count": null,
      "outputs": []
    },
    {
      "cell_type": "code",
      "source": [
        "#POVERTY LEVEL FEATURES\n",
        "print(len(projects_df[projects_df['poverty_level']=='low poverty']))\n",
        "print(len(projects_df[projects_df['poverty_level']=='moderate poverty']))"
      ],
      "metadata": {
        "id": "n4LFpsrLMePc",
        "outputId": "ac6d476a-c368-4a94-86bb-12bfafbf6de3",
        "colab": {
          "base_uri": "https://localhost:8080/"
        }
      },
      "execution_count": null,
      "outputs": [
        {
          "output_type": "stream",
          "name": "stdout",
          "text": [
            "2\n",
            "37\n"
          ]
        }
      ]
    },
    {
      "cell_type": "code",
      "source": [
        "#no private schools, all publically funded so not important feature\n",
        "projects_df['school_charter']"
      ],
      "metadata": {
        "id": "Sf0K5BJ5UgnT",
        "outputId": "79a102fb-811b-4d2c-b830-4d1dfb5cad22",
        "colab": {
          "base_uri": "https://localhost:8080/"
        }
      },
      "execution_count": null,
      "outputs": [
        {
          "output_type": "execute_result",
          "data": {
            "text/plain": [
              "0     False\n",
              "1     False\n",
              "2     False\n",
              "3     False\n",
              "4     False\n",
              "5     False\n",
              "6     False\n",
              "7     False\n",
              "8     False\n",
              "9     False\n",
              "10    False\n",
              "11    False\n",
              "12    False\n",
              "13    False\n",
              "14    False\n",
              "15    False\n",
              "16    False\n",
              "17    False\n",
              "18    False\n",
              "19    False\n",
              "20    False\n",
              "21    False\n",
              "22    False\n",
              "23    False\n",
              "24    False\n",
              "25    False\n",
              "26    False\n",
              "27    False\n",
              "28    False\n",
              "29    False\n",
              "30    False\n",
              "31    False\n",
              "32    False\n",
              "33    False\n",
              "34    False\n",
              "35    False\n",
              "36    False\n",
              "37    False\n",
              "38    False\n",
              "Name: school_charter, dtype: bool"
            ]
          },
          "metadata": {},
          "execution_count": 261
        }
      ]
    },
    {
      "cell_type": "code",
      "source": [
        "projects_df['date_posted']"
      ],
      "metadata": {
        "id": "Mxs6f6BXVCy1",
        "outputId": "b44d3d14-22a1-4e89-942d-131515b4012b",
        "colab": {
          "base_uri": "https://localhost:8080/"
        }
      },
      "execution_count": null,
      "outputs": [
        {
          "output_type": "execute_result",
          "data": {
            "text/plain": [
              "0    2012-12-20\n",
              "1    2010-09-18\n",
              "2    2013-11-15\n",
              "3    2008-03-10\n",
              "4    2008-11-28\n",
              "5    2009-05-04\n",
              "6    2009-06-12\n",
              "7    2009-06-12\n",
              "8    2009-06-14\n",
              "9    2009-06-22\n",
              "10   2009-06-30\n",
              "11   2009-08-22\n",
              "12   2009-11-01\n",
              "13   2009-11-02\n",
              "14   2010-02-05\n",
              "15   2010-02-14\n",
              "16   2010-02-28\n",
              "17   2010-04-01\n",
              "18   2010-06-27\n",
              "19   2010-07-16\n",
              "20   2010-09-26\n",
              "21   2010-09-30\n",
              "22   2010-11-23\n",
              "23   2011-01-02\n",
              "24   2011-02-18\n",
              "25   2011-02-18\n",
              "26   2011-03-13\n",
              "27   2011-04-09\n",
              "28   2011-08-21\n",
              "29   2011-08-21\n",
              "30   2011-08-21\n",
              "31   2013-07-16\n",
              "32   2013-07-19\n",
              "33   2013-11-05\n",
              "34   2013-11-30\n",
              "35   2013-12-08\n",
              "36   2013-12-31\n",
              "37   2014-01-01\n",
              "38   2014-05-10\n",
              "Name: date_posted, dtype: datetime64[ns]"
            ]
          },
          "metadata": {},
          "execution_count": 263
        }
      ]
    },
    {
      "cell_type": "code",
      "source": [
        "#number of students impacted by funded project\n",
        "projects_df['students_reached']"
      ],
      "metadata": {
        "id": "wLKMKrEzU0pH",
        "outputId": "764dd513-ffb1-48bf-c5f7-f8c731d6510b",
        "colab": {
          "base_uri": "https://localhost:8080/"
        }
      },
      "execution_count": null,
      "outputs": [
        {
          "output_type": "execute_result",
          "data": {
            "text/plain": [
              "0      18\n",
              "1     120\n",
              "2      95\n",
              "3      85\n",
              "4      90\n",
              "5      90\n",
              "6     100\n",
              "7      85\n",
              "8      90\n",
              "9      85\n",
              "10    200\n",
              "11    250\n",
              "12    400\n",
              "13    240\n",
              "14    300\n",
              "15    300\n",
              "16    400\n",
              "17     85\n",
              "18    270\n",
              "19     85\n",
              "20     85\n",
              "21     85\n",
              "22    100\n",
              "23    300\n",
              "24    240\n",
              "25    240\n",
              "26     85\n",
              "27     85\n",
              "28    125\n",
              "29    125\n",
              "30    125\n",
              "31    230\n",
              "32    230\n",
              "33    240\n",
              "34    230\n",
              "35    230\n",
              "36    230\n",
              "37     95\n",
              "38    260\n",
              "Name: students_reached, dtype: int64"
            ]
          },
          "metadata": {},
          "execution_count": 262
        }
      ]
    },
    {
      "cell_type": "code",
      "source": [
        "projects_df['resource_type']"
      ],
      "metadata": {
        "id": "TaETaU8Djm9o",
        "outputId": "0f2914bd-21c1-42f3-a4b5-71cc254a13f4",
        "colab": {
          "base_uri": "https://localhost:8080/"
        }
      },
      "execution_count": null,
      "outputs": [
        {
          "output_type": "execute_result",
          "data": {
            "text/plain": [
              "0     Technology\n",
              "1     Technology\n",
              "2     Technology\n",
              "3     Technology\n",
              "4     Technology\n",
              "5       Supplies\n",
              "6          Books\n",
              "7       Supplies\n",
              "8          Books\n",
              "9          Books\n",
              "10    Technology\n",
              "11    Technology\n",
              "12      Supplies\n",
              "13      Supplies\n",
              "14    Technology\n",
              "15    Technology\n",
              "16      Supplies\n",
              "17    Technology\n",
              "18      Supplies\n",
              "19      Supplies\n",
              "20    Technology\n",
              "21    Technology\n",
              "22      Supplies\n",
              "23         Other\n",
              "24    Technology\n",
              "25    Technology\n",
              "26      Supplies\n",
              "27      Supplies\n",
              "28    Technology\n",
              "29      Supplies\n",
              "30    Technology\n",
              "31    Technology\n",
              "32    Technology\n",
              "33    Technology\n",
              "34    Technology\n",
              "35    Technology\n",
              "36    Technology\n",
              "37    Technology\n",
              "38    Technology\n",
              "Name: resource_type, dtype: object"
            ]
          },
          "metadata": {},
          "execution_count": 268
        }
      ]
    },
    {
      "cell_type": "markdown",
      "source": [
        "# QUESTION 2\n",
        "\n",
        "For this question, you'll develop a model to help DonorsChoose **identify 10% of projects with the highest risk of failing to meet their funding goal** for their digital content expert review and provide suggestions. In order to intervene early in the process, DonorsChoose wants to identify these projects to help **immediately upon being posted** to the site.\n",
        "\n",
        "Build and evaluate the performance of several machine learning models for this task. **Be sure to use comments or text blocks to discuss the choices and assumptions you're making along the way.** Feel free to use any python packages available (such as sklearn) for this."
      ],
      "metadata": {
        "id": "6y7NI6XAS-96"
      }
    },
    {
      "cell_type": "markdown",
      "source": [
        "To identify the 10% of projects with highest risk of failing to meet funding goal, I choose the following features as being predictive of this outcome:\n",
        "1. project resource category\n",
        "2. project cost\n",
        "3. number of resources requested\n",
        "4. poverty level"
      ],
      "metadata": {
        "id": "4zgjgxQ9kKRs"
      }
    },
    {
      "cell_type": "code",
      "source": [
        "#Data preprocessing to help collect groundtruth/training/test data\n",
        "projects_df = pd.read_sql(\"SELECT * FROM data.projects\", db_engine)\n",
        "project_ids = projects_df['projectid_str']\n",
        "\n",
        "resources_df = pd.read_sql(\"SELECT * FROM data.resources\", db_engine)\n",
        "donations_df = pd.read_sql(\"SELECT * FROM data.donations\", db_engine)\n",
        "\n",
        "num_resources = []\n",
        "for proj in project_ids[:5000]:\n",
        "   proj_df = resources_df[resources_df['projectid_str']==proj]\n",
        "   resources = len(proj_df['resourceid'])\n",
        "   num_resources.append(resources)\n",
        "\n",
        "asking_price = pd.read_sql(\"SELECT projectid_str, total_asking_price FROM data.projects\", db_engine)\n",
        "donation_price = pd.read_sql(\"SELECT projectid_str, donation_to_project FROM data.donations\", db_engine)\n",
        "merged = pd.merge(asking_price, donation_price, on='projectid_str', how='outer')\n",
        "merged.fillna(0, inplace=True)\n",
        "\n",
        "fund_ratio = []\n",
        "for proj in project_ids[:5000]:\n",
        "  proj_df = merged[merged['projectid_str'] == proj]\n",
        "  ask = proj_df['total_asking_price'].sum()\n",
        "  donate = proj_df['donation_to_project'].sum()\n",
        "  fund_ratio.append(donate/ask)\n",
        "\n"
      ],
      "metadata": {
        "id": "sJDDm0HjpcXy",
        "outputId": "3d4aa8f6-04f7-43b9-be95-e540ff10c68c",
        "colab": {
          "base_uri": "https://localhost:8080/"
        }
      },
      "execution_count": null,
      "outputs": [
        {
          "output_type": "stream",
          "name": "stderr",
          "text": [
            "<ipython-input-330-a9dba99507c6>:24: RuntimeWarning: invalid value encountered in double_scalars\n",
            "  fund_ratio.append(donate/ask)\n"
          ]
        }
      ]
    },
    {
      "cell_type": "code",
      "source": [
        "#use ratios to determine whether funding goals have been met or not\n",
        "# treat as binary classification problem\n",
        "funded = []\n",
        "notfunded = []\n",
        "for i in range(len(fund_ratio)):\n",
        "    if fund_ratio[i] ==1.0:\n",
        "      funded.append(project_ids[i])\n",
        "    else:\n",
        "      notfunded.append(project_ids[i])\n"
      ],
      "metadata": {
        "id": "bKOZuqq6lX-s"
      },
      "execution_count": null,
      "outputs": []
    },
    {
      "cell_type": "code",
      "source": [
        "#fully funded projects get value of 0, for binary classification\n",
        "funded_df = projects_df[projects_df['projectid_str'].isin(funded)]\n",
        "funded_df['funded'] = 0"
      ],
      "metadata": {
        "id": "AS1JHUe-nBex",
        "outputId": "4e96e8e9-82d2-40b1-b0e0-ac1e645d0b7e",
        "colab": {
          "base_uri": "https://localhost:8080/"
        }
      },
      "execution_count": null,
      "outputs": [
        {
          "output_type": "stream",
          "name": "stderr",
          "text": [
            "<ipython-input-332-7e5b413e4e07>:3: SettingWithCopyWarning: \n",
            "A value is trying to be set on a copy of a slice from a DataFrame.\n",
            "Try using .loc[row_indexer,col_indexer] = value instead\n",
            "\n",
            "See the caveats in the documentation: https://pandas.pydata.org/pandas-docs/stable/user_guide/indexing.html#returning-a-view-versus-a-copy\n",
            "  funded_df['funded'] = 0\n"
          ]
        }
      ]
    },
    {
      "cell_type": "code",
      "source": [
        "#projects that don't meet funding goal get value of 1\n",
        "notfunded_df = projects_df[projects_df['projectid_str'].isin(notfunded)]\n",
        "notfunded_df['funded'] = 1"
      ],
      "metadata": {
        "id": "1DEPo2s_mhh1",
        "outputId": "be849c06-7639-421e-efe6-ccbd3b133c85",
        "colab": {
          "base_uri": "https://localhost:8080/"
        }
      },
      "execution_count": null,
      "outputs": [
        {
          "output_type": "stream",
          "name": "stderr",
          "text": [
            "<ipython-input-333-ffa1c5745f48>:3: SettingWithCopyWarning: \n",
            "A value is trying to be set on a copy of a slice from a DataFrame.\n",
            "Try using .loc[row_indexer,col_indexer] = value instead\n",
            "\n",
            "See the caveats in the documentation: https://pandas.pydata.org/pandas-docs/stable/user_guide/indexing.html#returning-a-view-versus-a-copy\n",
            "  notfunded_df['funded'] = 1\n"
          ]
        }
      ]
    },
    {
      "cell_type": "code",
      "source": [
        "#combine into single dataset for training/testing\n",
        "data_df = pd.concat([notfunded_df, funded_df], axis=0)"
      ],
      "metadata": {
        "id": "Eit7I33lmhkS"
      },
      "execution_count": null,
      "outputs": []
    },
    {
      "cell_type": "code",
      "source": [
        "#feature selection for logistic regression\n",
        "selected_columns = ['school_metro', 'primary_focus_area', 'resource_type', 'poverty_level', 'total_asking_price']\n",
        "X = data_df[selected_columns]\n",
        "y = data_df['funded']"
      ],
      "metadata": {
        "id": "qfOa5hDWmhmy"
      },
      "execution_count": null,
      "outputs": []
    },
    {
      "cell_type": "code",
      "source": [
        "import pandas as pd\n",
        "from sklearn.model_selection import train_test_split\n",
        "from sklearn.preprocessing import StandardScaler\n",
        "from sklearn.linear_model import LogisticRegression\n",
        "from sklearn.metrics import accuracy_score, classification_report\n",
        "from sklearn.preprocessing import LabelEncoder"
      ],
      "metadata": {
        "id": "OGOk1d9Vo-t1"
      },
      "execution_count": null,
      "outputs": []
    },
    {
      "cell_type": "code",
      "source": [
        "#encode categorial variables as integers\n",
        "label_encoder = LabelEncoder()\n",
        "for feat in selected_columns:\n",
        "  X[feat] = label_encoder.fit_transform(X[feat])"
      ],
      "metadata": {
        "id": "nMFa2YxDo923",
        "outputId": "941a8e07-787b-45ab-b5d7-b905664f7da0",
        "colab": {
          "base_uri": "https://localhost:8080/"
        }
      },
      "execution_count": null,
      "outputs": [
        {
          "output_type": "stream",
          "name": "stderr",
          "text": [
            "<ipython-input-337-9d2731b1ff65>:4: SettingWithCopyWarning: \n",
            "A value is trying to be set on a copy of a slice from a DataFrame.\n",
            "Try using .loc[row_indexer,col_indexer] = value instead\n",
            "\n",
            "See the caveats in the documentation: https://pandas.pydata.org/pandas-docs/stable/user_guide/indexing.html#returning-a-view-versus-a-copy\n",
            "  X[feat] = label_encoder.fit_transform(X[feat])\n",
            "<ipython-input-337-9d2731b1ff65>:4: SettingWithCopyWarning: \n",
            "A value is trying to be set on a copy of a slice from a DataFrame.\n",
            "Try using .loc[row_indexer,col_indexer] = value instead\n",
            "\n",
            "See the caveats in the documentation: https://pandas.pydata.org/pandas-docs/stable/user_guide/indexing.html#returning-a-view-versus-a-copy\n",
            "  X[feat] = label_encoder.fit_transform(X[feat])\n",
            "<ipython-input-337-9d2731b1ff65>:4: SettingWithCopyWarning: \n",
            "A value is trying to be set on a copy of a slice from a DataFrame.\n",
            "Try using .loc[row_indexer,col_indexer] = value instead\n",
            "\n",
            "See the caveats in the documentation: https://pandas.pydata.org/pandas-docs/stable/user_guide/indexing.html#returning-a-view-versus-a-copy\n",
            "  X[feat] = label_encoder.fit_transform(X[feat])\n",
            "<ipython-input-337-9d2731b1ff65>:4: SettingWithCopyWarning: \n",
            "A value is trying to be set on a copy of a slice from a DataFrame.\n",
            "Try using .loc[row_indexer,col_indexer] = value instead\n",
            "\n",
            "See the caveats in the documentation: https://pandas.pydata.org/pandas-docs/stable/user_guide/indexing.html#returning-a-view-versus-a-copy\n",
            "  X[feat] = label_encoder.fit_transform(X[feat])\n",
            "<ipython-input-337-9d2731b1ff65>:4: SettingWithCopyWarning: \n",
            "A value is trying to be set on a copy of a slice from a DataFrame.\n",
            "Try using .loc[row_indexer,col_indexer] = value instead\n",
            "\n",
            "See the caveats in the documentation: https://pandas.pydata.org/pandas-docs/stable/user_guide/indexing.html#returning-a-view-versus-a-copy\n",
            "  X[feat] = label_encoder.fit_transform(X[feat])\n"
          ]
        }
      ]
    },
    {
      "cell_type": "code",
      "source": [
        "#split train/test\n",
        "X_train, X_test, y_train, y_test = train_test_split(X, y, test_size=0.2, random_state=42)\n"
      ],
      "metadata": {
        "id": "Rynd-QADmhpI"
      },
      "execution_count": null,
      "outputs": []
    },
    {
      "cell_type": "code",
      "source": [
        "###LOGISTIC REGRESSION MODEL"
      ],
      "metadata": {
        "id": "D_GyQGpwsQeW"
      },
      "execution_count": null,
      "outputs": []
    },
    {
      "cell_type": "code",
      "source": [
        "# Create the logistic regression model\n",
        "model = LogisticRegression()\n",
        "\n",
        "# Train the model on the training data\n",
        "model.fit(X_train, y_train)"
      ],
      "metadata": {
        "id": "iZqydXeAmhrd",
        "outputId": "97d2740f-1e72-4c79-e456-aec1a8163e16",
        "colab": {
          "base_uri": "https://localhost:8080/",
          "height": 210
        }
      },
      "execution_count": null,
      "outputs": [
        {
          "output_type": "stream",
          "name": "stderr",
          "text": [
            "/usr/local/lib/python3.10/dist-packages/sklearn/linear_model/_logistic.py:458: ConvergenceWarning: lbfgs failed to converge (status=1):\n",
            "STOP: TOTAL NO. of ITERATIONS REACHED LIMIT.\n",
            "\n",
            "Increase the number of iterations (max_iter) or scale the data as shown in:\n",
            "    https://scikit-learn.org/stable/modules/preprocessing.html\n",
            "Please also refer to the documentation for alternative solver options:\n",
            "    https://scikit-learn.org/stable/modules/linear_model.html#logistic-regression\n",
            "  n_iter_i = _check_optimize_result(\n"
          ]
        },
        {
          "output_type": "execute_result",
          "data": {
            "text/plain": [
              "LogisticRegression()"
            ],
            "text/html": [
              "<style>#sk-container-id-3 {color: black;background-color: white;}#sk-container-id-3 pre{padding: 0;}#sk-container-id-3 div.sk-toggleable {background-color: white;}#sk-container-id-3 label.sk-toggleable__label {cursor: pointer;display: block;width: 100%;margin-bottom: 0;padding: 0.3em;box-sizing: border-box;text-align: center;}#sk-container-id-3 label.sk-toggleable__label-arrow:before {content: \"▸\";float: left;margin-right: 0.25em;color: #696969;}#sk-container-id-3 label.sk-toggleable__label-arrow:hover:before {color: black;}#sk-container-id-3 div.sk-estimator:hover label.sk-toggleable__label-arrow:before {color: black;}#sk-container-id-3 div.sk-toggleable__content {max-height: 0;max-width: 0;overflow: hidden;text-align: left;background-color: #f0f8ff;}#sk-container-id-3 div.sk-toggleable__content pre {margin: 0.2em;color: black;border-radius: 0.25em;background-color: #f0f8ff;}#sk-container-id-3 input.sk-toggleable__control:checked~div.sk-toggleable__content {max-height: 200px;max-width: 100%;overflow: auto;}#sk-container-id-3 input.sk-toggleable__control:checked~label.sk-toggleable__label-arrow:before {content: \"▾\";}#sk-container-id-3 div.sk-estimator input.sk-toggleable__control:checked~label.sk-toggleable__label {background-color: #d4ebff;}#sk-container-id-3 div.sk-label input.sk-toggleable__control:checked~label.sk-toggleable__label {background-color: #d4ebff;}#sk-container-id-3 input.sk-hidden--visually {border: 0;clip: rect(1px 1px 1px 1px);clip: rect(1px, 1px, 1px, 1px);height: 1px;margin: -1px;overflow: hidden;padding: 0;position: absolute;width: 1px;}#sk-container-id-3 div.sk-estimator {font-family: monospace;background-color: #f0f8ff;border: 1px dotted black;border-radius: 0.25em;box-sizing: border-box;margin-bottom: 0.5em;}#sk-container-id-3 div.sk-estimator:hover {background-color: #d4ebff;}#sk-container-id-3 div.sk-parallel-item::after {content: \"\";width: 100%;border-bottom: 1px solid gray;flex-grow: 1;}#sk-container-id-3 div.sk-label:hover label.sk-toggleable__label {background-color: #d4ebff;}#sk-container-id-3 div.sk-serial::before {content: \"\";position: absolute;border-left: 1px solid gray;box-sizing: border-box;top: 0;bottom: 0;left: 50%;z-index: 0;}#sk-container-id-3 div.sk-serial {display: flex;flex-direction: column;align-items: center;background-color: white;padding-right: 0.2em;padding-left: 0.2em;position: relative;}#sk-container-id-3 div.sk-item {position: relative;z-index: 1;}#sk-container-id-3 div.sk-parallel {display: flex;align-items: stretch;justify-content: center;background-color: white;position: relative;}#sk-container-id-3 div.sk-item::before, #sk-container-id-3 div.sk-parallel-item::before {content: \"\";position: absolute;border-left: 1px solid gray;box-sizing: border-box;top: 0;bottom: 0;left: 50%;z-index: -1;}#sk-container-id-3 div.sk-parallel-item {display: flex;flex-direction: column;z-index: 1;position: relative;background-color: white;}#sk-container-id-3 div.sk-parallel-item:first-child::after {align-self: flex-end;width: 50%;}#sk-container-id-3 div.sk-parallel-item:last-child::after {align-self: flex-start;width: 50%;}#sk-container-id-3 div.sk-parallel-item:only-child::after {width: 0;}#sk-container-id-3 div.sk-dashed-wrapped {border: 1px dashed gray;margin: 0 0.4em 0.5em 0.4em;box-sizing: border-box;padding-bottom: 0.4em;background-color: white;}#sk-container-id-3 div.sk-label label {font-family: monospace;font-weight: bold;display: inline-block;line-height: 1.2em;}#sk-container-id-3 div.sk-label-container {text-align: center;}#sk-container-id-3 div.sk-container {/* jupyter's `normalize.less` sets `[hidden] { display: none; }` but bootstrap.min.css set `[hidden] { display: none !important; }` so we also need the `!important` here to be able to override the default hidden behavior on the sphinx rendered scikit-learn.org. See: https://github.com/scikit-learn/scikit-learn/issues/21755 */display: inline-block !important;position: relative;}#sk-container-id-3 div.sk-text-repr-fallback {display: none;}</style><div id=\"sk-container-id-3\" class=\"sk-top-container\"><div class=\"sk-text-repr-fallback\"><pre>LogisticRegression()</pre><b>In a Jupyter environment, please rerun this cell to show the HTML representation or trust the notebook. <br />On GitHub, the HTML representation is unable to render, please try loading this page with nbviewer.org.</b></div><div class=\"sk-container\" hidden><div class=\"sk-item\"><div class=\"sk-estimator sk-toggleable\"><input class=\"sk-toggleable__control sk-hidden--visually\" id=\"sk-estimator-id-3\" type=\"checkbox\" checked><label for=\"sk-estimator-id-3\" class=\"sk-toggleable__label sk-toggleable__label-arrow\">LogisticRegression</label><div class=\"sk-toggleable__content\"><pre>LogisticRegression()</pre></div></div></div></div></div>"
            ]
          },
          "metadata": {},
          "execution_count": 339
        }
      ]
    },
    {
      "cell_type": "code",
      "source": [
        "y_pred = model.predict(X_test)\n"
      ],
      "metadata": {
        "id": "3UHRhbv4qXE6"
      },
      "execution_count": null,
      "outputs": []
    },
    {
      "cell_type": "code",
      "source": [
        "accuracy = accuracy_score(y_test, y_pred)\n",
        "print(f'Accuracy: {accuracy:.2f}')"
      ],
      "metadata": {
        "id": "0eq5z1dGrZ-G",
        "outputId": "17dde2a6-4d70-4b03-b52c-0120ca13792b",
        "colab": {
          "base_uri": "https://localhost:8080/"
        }
      },
      "execution_count": null,
      "outputs": [
        {
          "output_type": "stream",
          "name": "stdout",
          "text": [
            "Accuracy: 0.88\n"
          ]
        }
      ]
    },
    {
      "cell_type": "code",
      "source": [
        "###SVM MODEL"
      ],
      "metadata": {
        "id": "8u554Q9br2zv"
      },
      "execution_count": null,
      "outputs": []
    },
    {
      "cell_type": "code",
      "source": [
        "from sklearn import svm\n",
        "clf = svm.SVC()\n",
        "clf.fit(X_train, y_train)"
      ],
      "metadata": {
        "id": "QmU-d9NIr22Q",
        "outputId": "9a4c700b-a3ce-4088-fd82-61cbd096eec9",
        "colab": {
          "base_uri": "https://localhost:8080/",
          "height": 74
        }
      },
      "execution_count": null,
      "outputs": [
        {
          "output_type": "execute_result",
          "data": {
            "text/plain": [
              "SVC()"
            ],
            "text/html": [
              "<style>#sk-container-id-4 {color: black;background-color: white;}#sk-container-id-4 pre{padding: 0;}#sk-container-id-4 div.sk-toggleable {background-color: white;}#sk-container-id-4 label.sk-toggleable__label {cursor: pointer;display: block;width: 100%;margin-bottom: 0;padding: 0.3em;box-sizing: border-box;text-align: center;}#sk-container-id-4 label.sk-toggleable__label-arrow:before {content: \"▸\";float: left;margin-right: 0.25em;color: #696969;}#sk-container-id-4 label.sk-toggleable__label-arrow:hover:before {color: black;}#sk-container-id-4 div.sk-estimator:hover label.sk-toggleable__label-arrow:before {color: black;}#sk-container-id-4 div.sk-toggleable__content {max-height: 0;max-width: 0;overflow: hidden;text-align: left;background-color: #f0f8ff;}#sk-container-id-4 div.sk-toggleable__content pre {margin: 0.2em;color: black;border-radius: 0.25em;background-color: #f0f8ff;}#sk-container-id-4 input.sk-toggleable__control:checked~div.sk-toggleable__content {max-height: 200px;max-width: 100%;overflow: auto;}#sk-container-id-4 input.sk-toggleable__control:checked~label.sk-toggleable__label-arrow:before {content: \"▾\";}#sk-container-id-4 div.sk-estimator input.sk-toggleable__control:checked~label.sk-toggleable__label {background-color: #d4ebff;}#sk-container-id-4 div.sk-label input.sk-toggleable__control:checked~label.sk-toggleable__label {background-color: #d4ebff;}#sk-container-id-4 input.sk-hidden--visually {border: 0;clip: rect(1px 1px 1px 1px);clip: rect(1px, 1px, 1px, 1px);height: 1px;margin: -1px;overflow: hidden;padding: 0;position: absolute;width: 1px;}#sk-container-id-4 div.sk-estimator {font-family: monospace;background-color: #f0f8ff;border: 1px dotted black;border-radius: 0.25em;box-sizing: border-box;margin-bottom: 0.5em;}#sk-container-id-4 div.sk-estimator:hover {background-color: #d4ebff;}#sk-container-id-4 div.sk-parallel-item::after {content: \"\";width: 100%;border-bottom: 1px solid gray;flex-grow: 1;}#sk-container-id-4 div.sk-label:hover label.sk-toggleable__label {background-color: #d4ebff;}#sk-container-id-4 div.sk-serial::before {content: \"\";position: absolute;border-left: 1px solid gray;box-sizing: border-box;top: 0;bottom: 0;left: 50%;z-index: 0;}#sk-container-id-4 div.sk-serial {display: flex;flex-direction: column;align-items: center;background-color: white;padding-right: 0.2em;padding-left: 0.2em;position: relative;}#sk-container-id-4 div.sk-item {position: relative;z-index: 1;}#sk-container-id-4 div.sk-parallel {display: flex;align-items: stretch;justify-content: center;background-color: white;position: relative;}#sk-container-id-4 div.sk-item::before, #sk-container-id-4 div.sk-parallel-item::before {content: \"\";position: absolute;border-left: 1px solid gray;box-sizing: border-box;top: 0;bottom: 0;left: 50%;z-index: -1;}#sk-container-id-4 div.sk-parallel-item {display: flex;flex-direction: column;z-index: 1;position: relative;background-color: white;}#sk-container-id-4 div.sk-parallel-item:first-child::after {align-self: flex-end;width: 50%;}#sk-container-id-4 div.sk-parallel-item:last-child::after {align-self: flex-start;width: 50%;}#sk-container-id-4 div.sk-parallel-item:only-child::after {width: 0;}#sk-container-id-4 div.sk-dashed-wrapped {border: 1px dashed gray;margin: 0 0.4em 0.5em 0.4em;box-sizing: border-box;padding-bottom: 0.4em;background-color: white;}#sk-container-id-4 div.sk-label label {font-family: monospace;font-weight: bold;display: inline-block;line-height: 1.2em;}#sk-container-id-4 div.sk-label-container {text-align: center;}#sk-container-id-4 div.sk-container {/* jupyter's `normalize.less` sets `[hidden] { display: none; }` but bootstrap.min.css set `[hidden] { display: none !important; }` so we also need the `!important` here to be able to override the default hidden behavior on the sphinx rendered scikit-learn.org. See: https://github.com/scikit-learn/scikit-learn/issues/21755 */display: inline-block !important;position: relative;}#sk-container-id-4 div.sk-text-repr-fallback {display: none;}</style><div id=\"sk-container-id-4\" class=\"sk-top-container\"><div class=\"sk-text-repr-fallback\"><pre>SVC()</pre><b>In a Jupyter environment, please rerun this cell to show the HTML representation or trust the notebook. <br />On GitHub, the HTML representation is unable to render, please try loading this page with nbviewer.org.</b></div><div class=\"sk-container\" hidden><div class=\"sk-item\"><div class=\"sk-estimator sk-toggleable\"><input class=\"sk-toggleable__control sk-hidden--visually\" id=\"sk-estimator-id-4\" type=\"checkbox\" checked><label for=\"sk-estimator-id-4\" class=\"sk-toggleable__label sk-toggleable__label-arrow\">SVC</label><div class=\"sk-toggleable__content\"><pre>SVC()</pre></div></div></div></div></div>"
            ]
          },
          "metadata": {},
          "execution_count": 342
        }
      ]
    },
    {
      "cell_type": "code",
      "source": [
        "clf.predict(X_test)"
      ],
      "metadata": {
        "id": "H1lgBe3etX4s"
      },
      "execution_count": null,
      "outputs": []
    },
    {
      "cell_type": "code",
      "source": [
        "accuracy = accuracy_score(y_test, y_pred)\n",
        "print(f'Accuracy: {accuracy:.2f}')"
      ],
      "metadata": {
        "id": "YYp9ne9WsKql",
        "outputId": "89f90170-3c16-4027-f5e2-ff01f173373a",
        "colab": {
          "base_uri": "https://localhost:8080/"
        }
      },
      "execution_count": null,
      "outputs": [
        {
          "output_type": "stream",
          "name": "stdout",
          "text": [
            "Accuracy: 0.88\n"
          ]
        }
      ]
    },
    {
      "cell_type": "markdown",
      "source": [
        "# QUESTION 3\n",
        "\n",
        "Briefly discuss (in at most 1-2 paragraphs) the results of your analysis above: Which model would you select to deploy and why? Are there future analysis or improvements you would suggest? Are there other data sources you would ideally like to be able to incorporate into your models?"
      ],
      "metadata": {
        "id": "CSOIZcMFESpn"
      }
    },
    {
      "cell_type": "markdown",
      "source": [
        "I tested two models: a logistic regression model and an SVM classifier. Both models seem to perform at the same accuracy and I believe this is due to and inbalance in the dataset, in which most of the projects don't reach their funding goals so the model can predict in this binary setting and have high accuracy but low precision. In future iterations of this project, I would like to do a deeper analysis into which features of the data in a logistic regression model are most informative as to whether a project needs more help to reach its goals. This will be crucial in determining which 10% of projects need additional help to meet their funding goals. Feature selection will be crucial in the success of future iterations of the model. Additionally, more steps will need to be taken in data preprocessing if I make this a binary classification task to prevent bias towards either target."
      ],
      "metadata": {
        "id": "IviogAaNsVRB"
      }
    },
    {
      "cell_type": "markdown",
      "source": [],
      "metadata": {
        "id": "VIedu1vjE8PR"
      }
    },
    {
      "cell_type": "markdown",
      "source": [
        "# Submission\n",
        "\n",
        "To submit your exercise, please **save a copy** of this notebook containing your code and outputs (you can save it either to google drive or github, but make sure the course staff will have read permissions to access it).\n",
        "\n",
        "Provide a link to your copy of the notebook when you submit the assignment in canvas.\n",
        "\n",
        "Thank you and we're looking forward to a great semester in 10718!"
      ],
      "metadata": {
        "id": "XP2k3Z--DNju"
      }
    }
  ]
}